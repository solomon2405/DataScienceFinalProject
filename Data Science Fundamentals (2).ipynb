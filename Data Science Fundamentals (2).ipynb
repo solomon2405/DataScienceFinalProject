{
  "metadata": {
    "kernelspec": {
      "name": "python",
      "display_name": "Python (Pyodide)",
      "language": "python"
    },
    "language_info": {
      "codemirror_mode": {
        "name": "python",
        "version": 3
      },
      "file_extension": ".py",
      "mimetype": "text/x-python",
      "name": "python",
      "nbconvert_exporter": "python",
      "pygments_lexer": "ipython3",
      "version": "3.8"
    }
  },
  "nbformat_minor": 5,
  "nbformat": 4,
  "cells": [
    {
      "id": "a96b9016-a138-4985-ad86-ef039d36fad0",
      "cell_type": "markdown",
      "source": "# Data Science Fundamentals: Tools, Languages, Libraries, and Basic Operations\n",
      "metadata": {}
    },
    {
      "id": "276217ae-9fdd-43e0-9ea0-0127f95c5d79",
      "cell_type": "markdown",
      "source": "## Introduction\nThis notebook covers fundamental concepts of Data Science, including programming languages, libraries, tools, and basic arithmetic operations. It serves as the final project for the Data Science course.\n",
      "metadata": {}
    },
    {
      "id": "8fd7dd97-3a74-4cbd-9b86-e86769e69a4e",
      "cell_type": "markdown",
      "source": "\n# Data Science Fundamentals: Tools, Languages, Libraries, and Basic Operations\n",
      "metadata": {}
    },
    {
      "id": "4ec62a3d-27e0-47e3-bec6-7e6810f37434",
      "cell_type": "markdown",
      "source": "## Introduction\nThis notebook covers fundamental concepts of Data Science, including programming languages, libraries, tools, and basic arithmetic operations. It serves as the final project for the Data Science course.\n",
      "metadata": {}
    },
    {
      "id": "44b96ee8-67cf-4b5a-b831-c00083323f59",
      "cell_type": "markdown",
      "source": "## Data Science Languages\nThe following are popular languages used in Data Science:\n\n1. Python\n2. R\n3. SQL\n4. Julia\n5. Java\n",
      "metadata": {}
    },
    {
      "id": "34b5855c-6c58-448a-b31e-f77c4685086b",
      "cell_type": "markdown",
      "source": "## Data Science Libraries\nSome commonly used libraries in Data Science include:\n\n1. NumPy\n2. Pandas\n3. Matplotlib\n4. Seaborn\n5. Scikit-learn\n6. TensorFlow\n7. Keras\n",
      "metadata": {}
    },
    {
      "id": "61a3351c-92ba-4042-9d0c-0a8a1e778e30",
      "cell_type": "markdown",
      "source": "## Data Science Tools\n| Tool         | Purpose                        |\n|--------------|--------------------------------|\n| Jupyter      | Interactive notebooks          |\n| RStudio      | R programming IDE              |\n| GitHub       | Version control & collaboration|\n| Tableau      | Data visualization             |\n| Power BI     | Business intelligence          |\n| VS Code      | Code editor                    |\n",
      "metadata": {}
    },
    {
      "id": "5744f37c-2b4d-42aa-ad7a-17983af1e5a4",
      "cell_type": "markdown",
      "source": "## Arithmetic Expressions\nIn this section, we will demonstrate basic arithmetic operations such as addition, multiplication, and unit conversions.\n",
      "metadata": {}
    },
    {
      "id": "5f6677ef-9a21-4238-8cf7-44cb37ecbc36",
      "cell_type": "code",
      "source": "# Multiply and add numbers\na = 5\nb = 10\nc = 2\n\nresult = (a * b) + c\nprint(\"Result of (5 * 10) + 2 =\", result)\n",
      "metadata": {
        "trusted": true
      },
      "outputs": [
        {
          "name": "stdout",
          "output_type": "stream",
          "text": "Result of (5 * 10) + 2 = 52\n"
        }
      ],
      "execution_count": 4
    },
    {
      "id": "aeaccc0b-7a2c-4812-8bcd-48221ea22f9b",
      "cell_type": "code",
      "source": "# Convert minutes to hours\nminutes = 150\nhours = minutes / 60\nprint(minutes, \"minutes =\", hours, \"hours\")\n",
      "metadata": {
        "trusted": true
      },
      "outputs": [
        {
          "name": "stdout",
          "output_type": "stream",
          "text": "150 minutes = 2.5 hours\n"
        }
      ],
      "execution_count": 5
    },
    {
      "id": "2fd55320-d8e5-4c7b-b11d-3f58db36594d",
      "cell_type": "markdown",
      "source": "## Objectives\n- Understand basic Data Science concepts\n- Learn popular programming languages for Data Science\n- Explore commonly used libraries and tools\n- Perform basic arithmetic operations in Python\n- Convert units and handle simple calculations\n",
      "metadata": {}
    },
    {
      "id": "8194c3e6-088e-4b5c-9d66-9517a3f8d45a",
      "cell_type": "markdown",
      "source": "## Author\nSolomon \n",
      "metadata": {}
    },
    {
      "id": "11de9421-d5fd-461e-b655-8da8d0fba943",
      "cell_type": "code",
      "source": "",
      "metadata": {
        "trusted": true
      },
      "outputs": [],
      "execution_count": null
    }
  ]
}