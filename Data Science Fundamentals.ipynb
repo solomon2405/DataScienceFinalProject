{
  "metadata": {
    "kernelspec": {
      "name": "python",
      "display_name": "Python (Pyodide)",
      "language": "python"
    },
    "language_info": {
      "codemirror_mode": {
        "name": "python",
        "version": 3
      },
      "file_extension": ".py",
      "mimetype": "text/x-python",
      "name": "python",
      "nbconvert_exporter": "python",
      "pygments_lexer": "ipython3",
      "version": "3.8"
    }
  },
  "nbformat_minor": 5,
  "nbformat": 4,
  "cells": [
    {
      "id": "63a9bb55-cec8-4bda-ba13-77b629a9a913",
      "cell_type": "code",
      "source": "# Data Science Fundamentals: Tools, Languages, Libraries, and Basic Operations\n",
      "metadata": {
        "trusted": true
      },
      "outputs": [],
      "execution_count": null
    },
    {
      "id": "706e858f-1d60-4509-81f9-892d3e9ac4b6",
      "cell_type": "code",
      "source": "## Introduction\nThis notebook covers fundamental concepts of Data Science, including programming languages, libraries, tools, and basic arithmetic operations. It serves as the final project for the Data Science course.\n",
      "metadata": {
        "trusted": true
      },
      "outputs": [],
      "execution_count": null
    },
    {
      "id": "1c28526b-e6f4-4803-9b23-52e76863a8e8",
      "cell_type": "code",
      "source": "\n# Data Science Fundamentals: Tools, Languages, Libraries, and Basic Operations\n",
      "metadata": {
        "trusted": true
      },
      "outputs": [],
      "execution_count": 1
    },
    {
      "id": "6d6ca9f3-bd6c-4435-9c5c-2ba18190e1bc",
      "cell_type": "code",
      "source": "## Introduction\nThis notebook covers fundamental concepts of Data Science, including programming languages, libraries, tools, and basic arithmetic operations. It serves as the final project for the Data Science course.\n",
      "metadata": {
        "trusted": true
      },
      "outputs": [],
      "execution_count": null
    },
    {
      "id": "0a7f74a7-5010-438e-85bd-33cbb69c76f9",
      "cell_type": "code",
      "source": "## Data Science Languages\nThe following are popular languages used in Data Science:\n\n1. Python\n2. R\n3. SQL\n4. Julia\n5. Java\n",
      "metadata": {
        "trusted": true
      },
      "outputs": [],
      "execution_count": null
    },
    {
      "id": "b0ba127c-0dc3-48a6-b417-323db149f823",
      "cell_type": "code",
      "source": "## Data Science Libraries\nSome commonly used libraries in Data Science include:\n\n1. NumPy\n2. Pandas\n3. Matplotlib\n4. Seaborn\n5. Scikit-learn\n6. TensorFlow\n7. Keras\n",
      "metadata": {
        "trusted": true
      },
      "outputs": [],
      "execution_count": null
    },
    {
      "id": "4143031b-77f9-4115-99a4-01bac21d947f",
      "cell_type": "code",
      "source": "## Data Science Tools\n| Tool         | Purpose                        |\n|--------------|--------------------------------|\n| Jupyter      | Interactive notebooks          |\n| RStudio      | R programming IDE              |\n| GitHub       | Version control & collaboration|\n| Tableau      | Data visualization             |\n| Power BI     | Business intelligence          |\n| VS Code      | Code editor                    |\n",
      "metadata": {
        "trusted": true
      },
      "outputs": [],
      "execution_count": null
    },
    {
      "id": "d2708a42-02ff-465c-83f4-112c3f07cd39",
      "cell_type": "code",
      "source": "## Arithmetic Expressions\nIn this section, we will demonstrate basic arithmetic operations such as addition, multiplication, and unit conversions.\n",
      "metadata": {
        "trusted": true
      },
      "outputs": [],
      "execution_count": null
    },
    {
      "id": "01b8627c-81a5-4819-b47a-ab63f9dfb54d",
      "cell_type": "code",
      "source": "# Multiply and add numbers\na = 5\nb = 10\nc = 2\n\nresult = (a * b) + c\nprint(\"Result of (5 * 10) + 2 =\", result)\n",
      "metadata": {
        "trusted": true
      },
      "outputs": [],
      "execution_count": null
    },
    {
      "id": "39398ea7-2006-4f91-b458-b4c17bb8d1ea",
      "cell_type": "code",
      "source": "# Convert minutes to hours\nminutes = 150\nhours = minutes / 60\nprint(minutes, \"minutes =\", hours, \"hours\")\n",
      "metadata": {
        "trusted": true
      },
      "outputs": [],
      "execution_count": null
    },
    {
      "id": "4c111234-3112-4ba6-9af1-c2c87f480950",
      "cell_type": "code",
      "source": "## Objectives\n- Understand basic Data Science concepts\n- Learn popular programming languages for Data Science\n- Explore commonly used libraries and tools\n- Perform basic arithmetic operations in Python\n- Convert units and handle simple calculations\n",
      "metadata": {
        "trusted": true
      },
      "outputs": [],
      "execution_count": null
    },
    {
      "id": "2d7e5436-3c6b-4c96-8b52-024b4427e854",
      "cell_type": "code",
      "source": "## Author\nSolomon \n",
      "metadata": {
        "trusted": true
      },
      "outputs": [],
      "execution_count": null
    },
    {
      "id": "11de9421-d5fd-461e-b655-8da8d0fba943",
      "cell_type": "code",
      "source": "",
      "metadata": {
        "trusted": true
      },
      "outputs": [],
      "execution_count": null
    }
  ]
}